{
 "cells": [
  {
   "cell_type": "markdown",
   "metadata": {},
   "source": [
    "# Estructuras de control en PHP\n",
    "\n",
    "Las estructuras de control en PHP te permiten controlar el flujo de ejecución de tu código. Esto significa que puedes decidir qué partes del código se ejecutan y en qué orden. \n",
    "\n",
    "## Condicionales\n",
    "\n",
    "Las condicionales te permiten ejecutar un bloque de código solo si se cumple una determinada condición.\n",
    "\n",
    "- **if:** La estructura if ejecuta un bloque de código si la condición es verdadera.\n",
    "\n",
    "- **else:** La estructura else ejecuta un bloque de código si la condición es falsa.\n",
    "\n",
    "- **elseif:** La estructura elseif te permite evaluar múltiples condiciones.\n",
    "\n",
    "- **switch:** La estructura switch te permite comparar una variable con múltiples valores."
   ]
  },
  {
   "cell_type": "code",
   "execution_count": null,
   "metadata": {
    "vscode": {
     "languageId": "plaintext"
    }
   },
   "outputs": [],
   "source": [
    "// Condicional if, else y elif\n",
    "\n",
    "$calificacion = 7;\n",
    "\n",
    "if ($calificacion >= 9) {\n",
    "  echo \"Excelente\";\n",
    "} elseif ($calificacion >= 7) {\n",
    "  echo \"Aprobado\";\n",
    "} else {\n",
    "  echo \"Reprobado\";\n",
    "}\n",
    "\n",
    "//Condicional Switch\n",
    "\n",
    "$dia = \"lunes\";\n",
    "\n",
    "switch ($dia) {\n",
    "  case \"lunes\":\n",
    "    echo \"Es lunes.\";\n",
    "    break;\n",
    "  case \"martes\":\n",
    "    echo \"Es martes.\";\n",
    "    break;\n",
    "  default:\n",
    "    echo \"Es otro día.\";\n",
    "}"
   ]
  },
  {
   "cell_type": "markdown",
   "metadata": {},
   "source": [
    "## Bucles\n",
    "\n",
    "Los bucles te permiten repetir un bloque de código varias veces. \n",
    "\n",
    "- **for:** El bucle for se utiliza para repetir un bloque de código un número determinado de veces.\n",
    "\n",
    "- **while:** El bucle while se utiliza para repetir un bloque de código mientras se cumpla una condición.\n",
    "\n",
    "- **do-while:** El bucle do-while es similar al bucle while, pero el bloque de código se ejecuta al menos una vez.\n",
    "\n",
    "- **foreach:** El bucle foreach se utiliza para iterar sobre arrays u objetos."
   ]
  },
  {
   "cell_type": "code",
   "execution_count": null,
   "metadata": {
    "vscode": {
     "languageId": "plaintext"
    }
   },
   "outputs": [],
   "source": [
    "// Ciclo for\n",
    "\n",
    "for ($i = 0; $i < 10; $i++) {\n",
    "  echo $i . \" \";\n",
    "}\n",
    "\n",
    "//Ciclo while\n",
    "\n",
    "$i = 0;\n",
    "\n",
    "while ($i < 10) {\n",
    "  echo $i . \" \";\n",
    "  $i++;\n",
    "}\n",
    "\n",
    "// Ciclo Do- while\n",
    "\n",
    "$i = 10;\n",
    "\n",
    "do {\n",
    "  echo $i . \" \";\n",
    "  $i--;\n",
    "} while ($i > 0);\n",
    "\n",
    "//Ciclo foreach\n",
    "\n",
    "$colores = array(\"rojo\", \"verde\", \"azul\");\n",
    "\n",
    "foreach ($colores as $color) {\n",
    "  echo $color . \" \";\n",
    "}\n"
   ]
  },
  {
   "cell_type": "markdown",
   "metadata": {},
   "source": [
    "## Otras sentencias de Control\n",
    "\n",
    "- **break:** La sentencia break se utiliza para salir de un bucle.\n",
    "\n",
    "- **continue:** La sentencia continue se utiliza para saltar a la siguiente iteración de un bucle."
   ]
  },
  {
   "cell_type": "code",
   "execution_count": null,
   "metadata": {
    "vscode": {
     "languageId": "plaintext"
    }
   },
   "outputs": [],
   "source": [
    "// Sentencia Break\n",
    "\n",
    "for ($i = 0; $i < 10; $i++) {\n",
    "  if ($i == 5) {\n",
    "    break; // Salir del bucle cuando $i es igual a 5\n",
    "  }\n",
    "  echo $i . \" \";\n",
    "}\n",
    "\n",
    "// Sentencia Continue\n",
    "\n",
    "for ($i = 0; $i < 10; $i++) {\n",
    "  if ($i % 2 == 0) {\n",
    "    continue; // Saltar a la siguiente iteración si $i es par\n",
    "  }\n",
    "  echo $i . \" \";\n",
    "}"
   ]
  }
 ],
 "metadata": {
  "language_info": {
   "name": "python"
  }
 },
 "nbformat": 4,
 "nbformat_minor": 2
}
