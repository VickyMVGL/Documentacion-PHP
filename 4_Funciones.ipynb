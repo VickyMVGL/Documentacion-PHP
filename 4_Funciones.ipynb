{
 "cells": [
  {
   "cell_type": "markdown",
   "metadata": {},
   "source": [
    "# Funciones en PHP\n",
    "\n",
    "Las funciones son bloques de código reutilizables que realizan una tarea específica. Las funciones te permiten organizar tu código, hacerlo más legible y evitar la repetición de código.\n",
    "\n",
    "## ¿Como definir una funcion?\n"
   ]
  },
  {
   "cell_type": "code",
   "execution_count": null,
   "metadata": {
    "vscode": {
     "languageId": "plaintext"
    }
   },
   "outputs": [],
   "source": [
    "function nombre_de_la_funcion(parametro1, parametro2, ...) {\n",
    "  // Código de la función\n",
    "  return valor_de_retorno; // Opcional\n",
    "}"
   ]
  },
  {
   "cell_type": "markdown",
   "metadata": {},
   "source": [
    "**function:** Palabra clave para definir una función.\n",
    "\n",
    "**nombre_de_la_funcion:** Nombre de la función (debe seguir las reglas de nomenclatura de variables).\n",
    "\n",
    "**parametro1, parametro2, ...:** Lista de parámetros que la función recibe (opcional).\n",
    "\n",
    "**// Código de la función:** Bloque de código que se ejecuta cuando se llama a la función.\n",
    "\n",
    "**return valor_de_retorno;:** Valor que la función devuelve (opcional)."
   ]
  },
  {
   "cell_type": "markdown",
   "metadata": {},
   "source": [
    "## ¿Como llamar una funcion?\n",
    "\n",
    "Para llamar a una función, simplemente escribe su nombre seguido de paréntesis y, si es necesario, los argumentos que le quieres pasar:"
   ]
  },
  {
   "cell_type": "code",
   "execution_count": null,
   "metadata": {
    "vscode": {
     "languageId": "plaintext"
    }
   },
   "outputs": [],
   "source": [
    "nombre_de_la_funcion(argumento1, argumento2, ...);"
   ]
  },
  {
   "cell_type": "markdown",
   "metadata": {},
   "source": [
    "## Ejemplos de funciones"
   ]
  },
  {
   "cell_type": "code",
   "execution_count": null,
   "metadata": {
    "vscode": {
     "languageId": "plaintext"
    }
   },
   "outputs": [],
   "source": [
    "// Función que suma dos números\n",
    "function sumar($num1, $num2) {\n",
    "  $suma = $num1 + $num2;\n",
    "  return $suma;\n",
    "}\n",
    "\n",
    "// Llamada a la función sumar\n",
    "$resultado = sumar(5, 3);\n",
    "echo $resultado; // Imprime 8\n",
    "\n",
    "// Función que imprime un saludo personalizado\n",
    "function saludar($nombre) {\n",
    "  echo \"Hola, \" . $nombre . \"!\";\n",
    "}\n",
    "\n",
    "// Llamada a la función saludar\n",
    "saludar(\"Juan\"); // Imprime \"Hola, Juan!\""
   ]
  }
 ],
 "metadata": {
  "language_info": {
   "name": "python"
  }
 },
 "nbformat": 4,
 "nbformat_minor": 2
}
