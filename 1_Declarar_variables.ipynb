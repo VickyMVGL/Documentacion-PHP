{
 "cells": [
  {
   "cell_type": "markdown",
   "metadata": {},
   "source": [
    "# ¿Como declarar una variable en php?\n",
    "\n",
    "1. Las Variables en PHP siempre empiezan con un signo de dolar\n",
    "\n",
    "2. Luego se asigna el nombre de la variable, el mismo puede contener letras mayusculas, minusculas, numeros y guiones bajos, no se puede empezar con un numero el nombre de una variable\n",
    "\n",
    "3. Se le asigna el valor a la variable con un signo de igual (=), no es necesario colocar el tipo de dato, ya que el lenguaje lo interpreta directamente\n",
    "\n",
    "## Ejemplo"
   ]
  },
  {
   "cell_type": "code",
   "execution_count": null,
   "metadata": {
    "vscode": {
     "languageId": "plaintext"
    }
   },
   "outputs": [],
   "source": [
    "$nombre = \"Juan\"; // Variable de texto (cadena)\n",
    "$edad = 30;       // Variable numérica (entero)\n",
    "$altura = 1.85;    // Variable numérica (decimal)\n",
    "$es_estudiante = true; // Variable booleana (verdadero)"
   ]
  }
 ],
 "metadata": {
  "language_info": {
   "name": "python"
  }
 },
 "nbformat": 4,
 "nbformat_minor": 2
}
