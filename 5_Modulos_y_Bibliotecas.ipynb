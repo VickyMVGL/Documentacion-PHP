{
 "cells": [
  {
   "cell_type": "markdown",
   "metadata": {},
   "source": [
    "# Modulos y Bibliotecas\n",
    "\n",
    "En PHP, los módulos y las bibliotecas son herramientas que te permiten extender la funcionalidad del lenguaje y reutilizar código.\n",
    "\n",
    "### Modulos\n",
    "\n",
    "Son extensiones de PHP que se compilan junto con el intérprete y ofrecen funciones y clases adicionales. Generalmente, los módulos están escritos en C y proporcionan acceso a funcionalidades del sistema operativo o a bibliotecas externas.\n",
    "\n",
    "### Bibliotecas \n",
    "\n",
    "Son conjuntos de funciones y clases escritas en PHP que se pueden incluir en tus proyectos para realizar tareas específicas. Las bibliotecas no necesitan ser compiladas y se distribuyen como archivos PHP."
   ]
  },
  {
   "cell_type": "markdown",
   "metadata": {},
   "source": [
    "## ¿Como usar modulos en PHP?\n",
    "\n",
    "PHP incluye una gran cantidad de módulos integrados que te permiten trabajar con bases de datos, manipular imágenes, procesar texto, etc. \n",
    "\n",
    "Puedes habilitar o deshabilitar módulos en el archivo de configuración de PHP (php.ini).\n",
    "\n",
    "Para verificar qué módulos están habilitados en tu instalación de PHP, puedes utilizar la función phpinfo():"
   ]
  },
  {
   "cell_type": "code",
   "execution_count": null,
   "metadata": {
    "vscode": {
     "languageId": "plaintext"
    }
   },
   "outputs": [],
   "source": [
    "<?php\n",
    "phpinfo();\n",
    "?>"
   ]
  }
 ],
 "metadata": {
  "language_info": {
   "name": "python"
  }
 },
 "nbformat": 4,
 "nbformat_minor": 2
}
