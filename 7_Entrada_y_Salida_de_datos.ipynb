{
 "cells": [
  {
   "cell_type": "markdown",
   "metadata": {},
   "source": [
    "# Entrada y salida de datos en PHP\n",
    "\n",
    "La entrada y salida de datos son operaciones fundamentales en cualquier lenguaje de programación. PHP te permite interactuar con el usuario, leer datos de archivos y bases de datos, y mostrar resultados en la pantalla o enviarlos a otros sistemas.\n",
    "\n",
    "## Salida de datos\n",
    "\n",
    "PHP ofrece varias formas de mostrar datos en la pantalla:\n",
    "\n",
    "- **echo:** Imprime una o más cadenas. Es la forma más común y rápida de mostrar datos.\n",
    "\n",
    "- **print:** Imprime una cadena. Es similar a echo, pero solo puede imprimir una cadena a la vez.\n",
    "\n",
    "- **var_dump():** Muestra información detallada sobre una variable, incluyendo su tipo y valor. Es útil para depurar código.\n",
    "\n",
    "- **printf():** Imprime una cadena formateada. Permite especificar el formato de los datos que se van a mostrar."
   ]
  },
  {
   "cell_type": "code",
   "execution_count": null,
   "metadata": {
    "vscode": {
     "languageId": "plaintext"
    }
   },
   "outputs": [],
   "source": [
    "// echo\n",
    "\n",
    "echo \"Hola, mundo!\";\n",
    "\n",
    "$resuldato = \"Ganador\"\n",
    "echo \"El resultado es: \" . $resultado;\n",
    "\n",
    "// print\n",
    "\n",
    "print \"Hola, mundo!\";\n",
    "\n",
    "// var_dump()\n",
    "\n",
    "$array = array(\"a\" => 1, \"b\" => 2);\n",
    "var_dump($array);\n",
    "\n",
    "// printf()\n",
    "\n",
    "$nombre = \"Juan\";\n",
    "$edad = 30;\n",
    "printf(\"Hola, %s. Tienes %d años.\", $nombre, $edad);"
   ]
  },
  {
   "cell_type": "markdown",
   "metadata": {},
   "source": [
    "## Entrada de datos\n",
    "\n",
    "PHP ofrece varias formas de obtener datos del usuario:\n",
    "\n",
    "- **Formularios HTML:** Los formularios HTML permiten al usuario ingresar datos que se envían al servidor mediante el método GET o POST.\n",
    "\n",
    "Para acceder a los datos enviados por el formulario, se utilizan las variables $_GET (para el método GET) o $_POST (para el método POST).\n",
    "\n",
    "- **Línea de comandos:** Si ejecutas PHP desde la línea de comandos, puedes obtener datos del usuario utilizando la función fgets()."
   ]
  },
  {
   "cell_type": "code",
   "execution_count": null,
   "metadata": {
    "vscode": {
     "languageId": "plaintext"
    }
   },
   "outputs": [],
   "source": [
    "// Formularios HTML\n",
    "\n",
    "<form action=\"procesar_datos.php\" method=\"post\">\n",
    "  Nombre: <input type=\"text\" name=\"nombre\"><br>\n",
    "  <input type=\"submit\" value=\"Enviar\">\n",
    "</form>\n",
    "\n",
    "$nombre = $_POST[\"nombre\"];\n",
    "echo \"Hola, \" . $nombre;\n",
    "\n",
    "//Linea de comandos\n",
    "\n",
    "$nombre = fgets(STDIN);\n",
    "echo \"Hola, \" . $nombre;"
   ]
  },
  {
   "cell_type": "markdown",
   "metadata": {},
   "source": [
    "## Lectura y escritura de archivos\n",
    "\n",
    "PHP te permite leer y escribir datos en archivos. Para abrir un archivo, se utiliza la función **fopen().** Para leer datos, se utilizan funciones como **fread()** o **fgets().** Para escribir datos, se utilizan funciones como **fwrite()** o **fputs().**"
   ]
  },
  {
   "cell_type": "code",
   "execution_count": null,
   "metadata": {
    "vscode": {
     "languageId": "plaintext"
    }
   },
   "outputs": [],
   "source": [
    "// Abrir un archivo para lectura\n",
    "$archivo = fopen(\"datos.txt\", \"r\");\n",
    "\n",
    "// Leer una línea del archivo\n",
    "$linea = fgets($archivo);\n",
    "\n",
    "// Cerrar el archivo\n",
    "fclose($archivo);\n",
    "\n",
    "// Abrir un archivo para escritura\n",
    "$archivo = fopen(\"resultados.txt\", \"w\");\n",
    "\n",
    "// Escribir datos en el archivo\n",
    "fwrite($archivo, \"El resultado es: \" . $resultado);\n",
    "\n",
    "// Cerrar el archivo\n",
    "fclose($archivo);"
   ]
  }
 ],
 "metadata": {
  "language_info": {
   "name": "python"
  }
 },
 "nbformat": 4,
 "nbformat_minor": 2
}
