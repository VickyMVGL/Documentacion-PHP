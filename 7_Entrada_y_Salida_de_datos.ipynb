{
 "cells": [
  {
   "cell_type": "markdown",
   "metadata": {},
   "source": [
    "# Entrada y salida de datos en PHP\n",
    "\n",
    "La entrada y salida de datos son operaciones fundamentales en cualquier lenguaje de programación. PHP te permite interactuar con el usuario, leer datos de archivos y bases de datos, y mostrar resultados en la pantalla o enviarlos a otros sistemas.\n",
    "\n",
    "## Salida de datos\n",
    "\n",
    "PHP ofrece varias formas de mostrar datos en la pantalla:\n",
    "\n",
    "- echo: Imprime una o más cadenas. Es la forma más común y rápida de mostrar datos.\n",
    "\n",
    "- print: Imprime una cadena. Es similar a echo, pero solo puede imprimir una cadena a la vez.\n",
    "\n",
    "- var_dump(): Muestra información detallada sobre una variable, incluyendo su tipo y valor. Es útil para depurar código.\n",
    "\n",
    "- printf(): Imprime una cadena formateada. Permite especificar el formato de los datos que se van a mostrar."
   ]
  },
  {
   "cell_type": "code",
   "execution_count": null,
   "metadata": {
    "vscode": {
     "languageId": "plaintext"
    }
   },
   "outputs": [],
   "source": [
    "// echo\n",
    "\n",
    "echo \"Hola, mundo!\";\n",
    "\n",
    "$resuldato = \"Ganador\"\n",
    "echo \"El resultado es: \" . $resultado;\n",
    "\n",
    "// print\n",
    "\n",
    "print \"Hola, mundo!\";\n",
    "\n",
    "// var_dump()\n",
    "\n",
    "$array = array(\"a\" => 1, \"b\" => 2);\n",
    "var_dump($array);\n",
    "\n",
    "// printf()\n",
    "\n",
    "$nombre = \"Juan\";\n",
    "$edad = 30;\n",
    "printf(\"Hola, %s. Tienes %d años.\", $nombre, $edad);"
   ]
  },
  {
   "cell_type": "markdown",
   "metadata": {},
   "source": []
  }
 ],
 "metadata": {
  "language_info": {
   "name": "python"
  }
 },
 "nbformat": 4,
 "nbformat_minor": 2
}
