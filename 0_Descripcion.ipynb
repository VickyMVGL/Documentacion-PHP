{
 "cells": [
  {
   "cell_type": "markdown",
   "metadata": {},
   "source": [
    "# Introducción a PHP\n",
    "\n",
    "PHP es un lenguaje de scripting de propósito general ampliamente utilizado que impulsa todo, desde su blog hasta los sitios web más populares del mundo. Es un lenguaje de código abierto que se ejecuta en un servidor y se utiliza para crear páginas web dinámicas e interactivas.\n",
    "\n",
    "## ¿Qué es PHP?\n",
    "PHP son las siglas de \"Hypertext Preprocessor\", que en español significa \"Preprocesador de Hipertexto\". Es un lenguaje de scripting del lado del servidor, lo que significa que el código PHP se ejecuta en el servidor antes de enviarse al navegador web del usuario. Esto permite que PHP genere contenido dinámico que se actualiza en tiempo real, como páginas web personalizadas, tiendas en línea y aplicaciones web.\n",
    "\n",
    "## ¿Por qué usar PHP?\n",
    "\n",
    "**Es fácil de aprender:** PHP tiene una sintaxis sencilla y fácil de entender, lo que lo convierte en un lenguaje ideal para principiantes.\n",
    "\n",
    "**Es multiplataforma:** PHP se puede ejecutar en una variedad de sistemas operativos, incluyendo Windows, macOS y Linux.\n",
    "\n",
    "**Es compatible con bases de datos:** PHP se puede conectar a una variedad de bases de datos, como MySQL, PostgreSQL y MongoDB.\n",
    "\n",
    "**Tiene una gran comunidad:** PHP tiene una gran comunidad de desarrolladores que pueden brindar apoyo y recursos.\n",
    "\n",
    "**Es gratuito y de código abierto:** PHP es un lenguaje gratuito y de código abierto, lo que significa que se puede utilizar sin costo alguno.\n",
    "\n",
    "## ¿Para qué se utiliza PHP?\n",
    "\n",
    "**Creación de páginas web dinámicas:** PHP se puede utilizar para crear páginas web que se actualizan en tiempo real en función de la interacción del usuario o de los datos de una base de datos.\n",
    "\n",
    "**Desarrollo de aplicaciones web:** PHP se puede utilizar para desarrollar aplicaciones web completas, como tiendas en línea, redes sociales y sistemas de gestión de contenido.\n",
    "\n",
    "**Automatización de tareas:** PHP se puede utilizar para automatizar tareas repetitivas, como el envío de correos electrónicos o la actualización de bases de datos.\n",
    "\n",
    "## Recursos adicionales\n",
    "\n",
    "**Documentación oficial de PHP:** https://www.php.net/\n",
    "\n",
    "**Paginas para estudiar:**\n",
    "w3schools.com/php/\n",
    "codecademy.com/learn/learn-php](https://www.codecademy.com/learn/paths/php-skill)"
   ]
  }
 ],
 "metadata": {
  "language_info": {
   "name": "python"
  }
 },
 "nbformat": 4,
 "nbformat_minor": 2
}
