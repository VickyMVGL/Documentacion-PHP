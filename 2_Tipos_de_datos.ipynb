{
 "cells": [
  {
   "cell_type": "markdown",
   "metadata": {},
   "source": [
    "# Tipos de datos en PHP\n",
    "\n",
    "## Datos escalares\n",
    "\n",
    "Los tipos de datos escalares representan un solo valor. PHP soporta los siguientes tipos de datos escalares:\n",
    "\n",
    "- **Enteros:** Los enteros representan números enteros, positivos o negativos.\n",
    "\n",
    "- **Flotantes:** Los flotantes representan números decimales.\n",
    "\n",
    "- **Cadenas:** Las cadenas representan texto. Se pueden definir con comillas simples o dobles.\n",
    "\n",
    "- **Booleanos:** Los booleanos representan valores verdaderos o falsos. Se utilizan para tomar decisiones en el código.\n"
   ]
  },
  {
   "cell_type": "code",
   "execution_count": null,
   "metadata": {
    "vscode": {
     "languageId": "plaintext"
    }
   },
   "outputs": [],
   "source": [
    "//Ejemplo de entero\n",
    "\n",
    "$edad = 30;\n",
    "$cantidad = -10;\n",
    "\n",
    "//Ejemplo de float\n",
    "\n",
    "$precio = 99.99;\n",
    "$pi = 3.14159;\n",
    "\n",
    "//Ejemplos de cadenas de texto\n",
    "\n",
    "$nombre = \"Juan\";\n",
    "$mensaje = 'Hola, mundo!';\n",
    "\n",
    "echo \"Hola, \" . $nombre; // Concatenación de cadenas\n",
    "\n",
    "//Ejemplo de booleanos\n",
    "\n",
    "$verdadero = true;\n",
    "$falso = false;\n",
    "\n",
    "if ($verdadero) {\n",
    "  echo \"La variable \\$verdadero es verdadera.\";\n",
    "}\n",
    "."
   ]
  },
  {
   "cell_type": "markdown",
   "metadata": {},
   "source": [
    "## Datos compuestos\n",
    "Los tipos de datos compuestos pueden contener múltiples valores. PHP soporta los siguientes tipos de datos compuestos:\n",
    "\n",
    "- **Arrays:** Los arrays son colecciones ordenadas de valores. Los valores pueden ser de cualquier tipo de dato. \n",
    "\n",
    "- **Objetos:** Los objetos son instancias de clases. Las clases son plantillas que definen las propiedades y métodos de los objetos.\n"
   ]
  },
  {
   "cell_type": "code",
   "execution_count": null,
   "metadata": {
    "vscode": {
     "languageId": "plaintext"
    }
   },
   "outputs": [],
   "source": [
    "// Ejemplo de array\n",
    "\n",
    "$colores = array(\"rojo\", \"verde\", \"azul\");\n",
    "\n",
    "echo $colores[0]; // Acceder al primer elemento del array (índice 0)\n",
    "\n",
    "// Otra forma de definir arrays (sintaxis corta)\n",
    "$nombres = [\"Ana\", \"Luis\", \"María\"];\n",
    "\n",
    "// Ejemplo de Objeto\n",
    "\n",
    "class Persona {\n",
    "  public $nombre;\n",
    "  public $edad;\n",
    "\n",
    "  public function __construct($nombre, $edad) {\n",
    "    $this->nombre = $nombre;\n",
    "    $this->edad = $edad;\n",
    "  }\n",
    "}\n",
    "\n",
    "$persona = new Persona(\"Juan\", 30);\n",
    "\n",
    "echo $persona->nombre; // Acceder a la propiedad nombre del objeto"
   ]
  },
  {
   "cell_type": "markdown",
   "metadata": {},
   "source": [
    "## Otros tipos de datos\n",
    "\n",
    "- **Nulos:** Los nulos representan la ausencia de un valor. Una variable se considera nula si no se le ha asignado ningún valor.\n",
    "\n",
    "- **Recursos:** Los recursos son referencias a recursos externos, como archivos, conexiones de bases de datos o sockets."
   ]
  },
  {
   "cell_type": "code",
   "execution_count": null,
   "metadata": {
    "vscode": {
     "languageId": "plaintext"
    }
   },
   "outputs": [],
   "source": [
    "//Ejemplo de variable nula\n",
    "\n",
    "$variable = null;\n",
    "\n",
    "if ($variable === null) {\n",
    "  echo \"La variable es nula.\";\n",
    "}\n",
    "\n",
    "//ejemplo de recursos\n",
    "\n",
    "// Ejemplo de apertura de un archivo (devuelve un recurso)\n",
    "$archivo = fopen(\"archivo.txt\", \"r\");\n",
    "\n",
    "// ... trabajar con el archivo ...\n",
    "\n",
    "fclose($archivo); // Cerrar el recurso"
   ]
  },
  {
   "cell_type": "markdown",
   "metadata": {},
   "source": [
    "## Conversion de tipos de datos\n",
    "\n",
    "PHP es un lenguaje de tipado dinámico, lo que significa que el tipo de una variable se determina en tiempo de ejecución. PHP realiza conversiones de tipo automáticas cuando es necesario. Sin embargo, también puedes realizar conversiones de tipo explícitas"
   ]
  },
  {
   "cell_type": "code",
   "execution_count": null,
   "metadata": {
    "vscode": {
     "languageId": "plaintext"
    }
   },
   "outputs": [],
   "source": [
    "$numero = \"10\"; // Cadena\n",
    "$entero = (int) $numero; // Conversión a entero\n",
    "\n",
    "$decimal = 3.14;\n",
    "$cadena = (string) $decimal; // Conversión a cadena"
   ]
  }
 ],
 "metadata": {
  "language_info": {
   "name": "python"
  }
 },
 "nbformat": 4,
 "nbformat_minor": 2
}
