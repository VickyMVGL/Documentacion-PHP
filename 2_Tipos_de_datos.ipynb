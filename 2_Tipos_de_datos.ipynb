{
 "cells": [
  {
   "cell_type": "markdown",
   "metadata": {},
   "source": [
    "# Tipos de datos en PHP\n",
    "\n",
    "## datos escalares\n",
    "\n",
    "Los tipos de datos escalares representan un solo valor. PHP soporta los siguientes tipos de datos escalares:\n",
    "\n",
    "- **Enteros:** Los enteros representan números enteros, positivos o negativos.\n",
    "- **Flotantes:** Los flotantes representan números decimales.\n",
    "- **Cadenas:** Las cadenas representan texto. Se pueden definir con comillas simples o dobles.\n",
    "- **Booleanos:** Los booleanos representan valores verdaderos o falsos. Se utilizan para tomar decisiones en el código.\n"
   ]
  },
  {
   "cell_type": "code",
   "execution_count": null,
   "metadata": {
    "vscode": {
     "languageId": "plaintext"
    }
   },
   "outputs": [],
   "source": [
    "//Ejemplo de entero\n",
    "\n",
    "$edad = 30;\n",
    "$cantidad = -10;\n",
    "\n",
    "//Ejemplo de float\n",
    "\n",
    "$precio = 99.99;\n",
    "$pi = 3.14159;\n",
    "\n",
    "//Ejemplos de cadenas de texto\n",
    "\n",
    "$nombre = \"Juan\";\n",
    "$mensaje = 'Hola, mundo!';\n",
    "\n",
    "echo \"Hola, \" . $nombre; // Concatenación de cadenas\n",
    "\n",
    "//Ejemplo de booleanos\n",
    "\n",
    "$verdadero = true;\n",
    "$falso = false;\n",
    "\n",
    "if ($verdadero) {\n",
    "  echo \"La variable \\$verdadero es verdadera.\";\n",
    "}"
   ]
  }
 ],
 "metadata": {
  "language_info": {
   "name": "python"
  }
 },
 "nbformat": 4,
 "nbformat_minor": 2
}
