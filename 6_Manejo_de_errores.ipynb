{
 "cells": [
  {
   "cell_type": "markdown",
   "metadata": {},
   "source": [
    "# Manejo de Errores\n",
    "\n",
    "El manejo de errores es una parte fundamental de la programación en PHP. Permite a tus aplicaciones responder de manera adecuada a situaciones inesperadas, como archivos que no se encuentran, conexiones de base de datos fallidas o entradas de usuario incorrectas. \n",
    "\n",
    "## Niveles de error\n",
    "\n",
    "PHP define varios niveles de error, cada uno con un significado diferente:\n",
    "\n",
    "- **Errores fatales (E_ERROR, E_PARSE, E_CORE_ERROR, E_COMPILE_ERROR):** Detienen la ejecución del script inmediatamente.\n",
    "\n",
    "- **Advertencias (E_WARNING, E_CORE_WARNING, E_COMPILE_WARNING):** No detienen la ejecución, pero indican un problema potencial.\n",
    "\n",
    "- **Avisos (E_NOTICE, E_USER_NOTICE):** Sugieren un posible error, pero no impiden la ejecución.\n",
    "\n",
    "- **Otros (E_DEPRECATED, E_USER_DEPRECATED, E_STRICT, E_RECOVERABLE_ERROR):** Proporcionan información adicional sobre el código.\n",
    "\n",
    "## ¿Como mostrar los errores?\n",
    "\n",
    "La forma en que se muestran los errores se controla mediante la directiva error_reporting en el archivo php.ini o mediante la función error_reporting() en el código. Para mostrar todos los errores durante el desarrollo, puedes usar:\n"
   ]
  },
  {
   "cell_type": "code",
   "execution_count": null,
   "metadata": {
    "vscode": {
     "languageId": "plaintext"
    }
   },
   "outputs": [],
   "source": [
    "error_reporting(E_ALL);\n",
    "ini_set('display_errors', 1);"
   ]
  },
  {
   "cell_type": "markdown",
   "metadata": {},
   "source": [
    "## Funciones para el manejo de errores\n",
    "\n",
    "PHP proporciona algunas funciones útiles para el manejo de errores:\n",
    "\n",
    "- **error_get_last():** Devuelve un array con información sobre el último error ocurrido.\n",
    "\n",
    "- **error_log():** Envía un mensaje de error a un archivo de registro o a un sistema de registro de errores.\n",
    "\n",
    "- **set_error_handler():** Define una función personalizada para manejar errores."
   ]
  },
  {
   "cell_type": "markdown",
   "metadata": {},
   "source": [
    "## Excepciones\n",
    "\n",
    "Las excepciones son una forma más moderna y estructurada de manejar errores en PHP. Permiten \"lanzar\" un error y \"atraparlo\" en otro lugar del código. Para usar excepciones, se utilizan las palabras clave try, catch y throw."
   ]
  },
  {
   "cell_type": "code",
   "execution_count": null,
   "metadata": {
    "vscode": {
     "languageId": "plaintext"
    }
   },
   "outputs": [],
   "source": [
    "try {\n",
    "  // Código que puede lanzar una excepción\n",
    "  if ($divisor == 0) {\n",
    "    throw new Exception(\"División por cero.\");\n",
    "  }\n",
    "  $resultado = $dividendo / $divisor;\n",
    "} catch (Exception $e) {\n",
    "  // Código para manejar la excepción\n",
    "  echo \"Error: \" . $e->getMessage();\n",
    "}"
   ]
  }
 ],
 "metadata": {
  "language_info": {
   "name": "python"
  }
 },
 "nbformat": 4,
 "nbformat_minor": 2
}
