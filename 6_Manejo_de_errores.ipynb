{
 "cells": [
  {
   "cell_type": "markdown",
   "metadata": {},
   "source": [
    "# Manejo de Errores\n",
    "\n",
    "El manejo de errores es una parte fundamental de la programación en PHP. Permite a tus aplicaciones responder de manera adecuada a situaciones inesperadas, como archivos que no se encuentran, conexiones de base de datos fallidas o entradas de usuario incorrectas. \n",
    "\n",
    "## Niveles de error\n",
    "\n",
    "PHP define varios niveles de error, cada uno con un significado diferente:\n",
    "\n",
    "- **Errores fatales (E_ERROR, E_PARSE, E_CORE_ERROR, E_COMPILE_ERROR):** Detienen la ejecución del script inmediatamente.\n",
    "\n",
    "- **Advertencias (E_WARNING, E_CORE_WARNING, E_COMPILE_WARNING):** No detienen la ejecución, pero indican un problema potencial.\n",
    "\n",
    "- **Avisos (E_NOTICE, E_USER_NOTICE):** Sugieren un posible error, pero no impiden la ejecución.\n",
    "\n",
    "- **Otros (E_DEPRECATED, E_USER_DEPRECATED, E_STRICT, E_RECOVERABLE_ERROR):** Proporcionan información adicional sobre el código."
   ]
  }
 ],
 "metadata": {
  "language_info": {
   "name": "python"
  }
 },
 "nbformat": 4,
 "nbformat_minor": 2
}
